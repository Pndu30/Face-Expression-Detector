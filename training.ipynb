{
 "cells": [
  {
   "cell_type": "code",
   "execution_count": null,
   "metadata": {},
   "outputs": [],
   "source": [
    "import torch\n",
    "from models.ResEmoteNet import ResEmoteNet\n",
    "from main import train_model"
   ]
  },
  {
   "cell_type": "code",
   "execution_count": null,
   "metadata": {},
   "outputs": [],
   "source": [
    "model = ResEmoteNet(inch=3, outch=7, softmax=False)\n",
    "lr=0.001\n",
    "momentum = 0.9\n",
    "decay = 1e-4\n",
    "optim=torch.optim.SGD\n",
    "seed = 42\n",
    "loss_fn=torch.nn.CrossEntropyLoss\n",
    "scheduler=None\n",
    "epochs=100\n",
    "val_epoch=2\n",
    "batch=16\n",
    "save=True\n",
    "PATH='./models/weights/weights_SGD.pth'\n",
    "\n",
    "train_model(model=model, lr=lr, optim=optim, seed=seed,\n",
    "                loss_fn=loss_fn, scheduler=scheduler, \n",
    "                momentum=momentum, decay=decay,\n",
    "                epochs=epochs, val_epoch=val_epoch, batch=batch, save=save, PATH=PATH)"
   ]
  }
 ],
 "metadata": {
  "language_info": {
   "name": "python"
  }
 },
 "nbformat": 4,
 "nbformat_minor": 2
}
